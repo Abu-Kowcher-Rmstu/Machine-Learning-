{
 "cells": [
  {
   "cell_type": "markdown",
   "id": "6bdafa2b",
   "metadata": {},
   "source": [
    "# input"
   ]
  },
  {
   "cell_type": "code",
   "execution_count": 2,
   "id": "422c2d8a",
   "metadata": {
    "scrolled": true
   },
   "outputs": [
    {
     "name": "stdout",
     "output_type": "stream",
     "text": [
      "please enter a number: 12\n"
     ]
    }
   ],
   "source": [
    "a = int(input(\"please enter a number: \"))"
   ]
  },
  {
   "cell_type": "code",
   "execution_count": 50,
   "id": "a85e81fd",
   "metadata": {},
   "outputs": [
    {
     "name": "stdout",
     "output_type": "stream",
     "text": [
      "please enter a number: 3.14\n"
     ]
    },
    {
     "data": {
      "text/plain": [
       "3.14"
      ]
     },
     "execution_count": 50,
     "metadata": {},
     "output_type": "execute_result"
    }
   ],
   "source": [
    "b = float(input(\"please enter a number: \"))\n",
    "b"
   ]
  },
  {
   "cell_type": "code",
   "execution_count": 6,
   "id": "e9af63dc",
   "metadata": {},
   "outputs": [
    {
     "name": "stdout",
     "output_type": "stream",
     "text": [
      "enter three numbers10 20 30\n"
     ]
    },
    {
     "data": {
      "text/plain": [
       "30"
      ]
     },
     "execution_count": 6,
     "metadata": {},
     "output_type": "execute_result"
    }
   ],
   "source": [
    "a,b,c = [int(x) for x in input(\"enter three numbers\").split()]\n",
    "c"
   ]
  },
  {
   "cell_type": "code",
   "execution_count": 13,
   "id": "1f90147f",
   "metadata": {},
   "outputs": [
    {
     "name": "stdout",
     "output_type": "stream",
     "text": [
      "10 0 20 20 20\n"
     ]
    },
    {
     "data": {
      "text/plain": [
       "[10, 0, 20, 20, 20]"
      ]
     },
     "execution_count": 13,
     "metadata": {},
     "output_type": "execute_result"
    }
   ],
   "source": [
    "arr = [int(x) for x in input().split()]\n",
    "arr"
   ]
  },
  {
   "cell_type": "code",
   "execution_count": 15,
   "id": "166fe659",
   "metadata": {},
   "outputs": [
    {
     "name": "stdout",
     "output_type": "stream",
     "text": [
      "10 20 20 20 140 14 0\n"
     ]
    }
   ],
   "source": [
    "arr = list(map(int,input().split()))"
   ]
  },
  {
   "cell_type": "code",
   "execution_count": null,
   "id": "5cd8541e",
   "metadata": {},
   "outputs": [],
   "source": [
    "quotiont, remainder = divmod(5,3)\n",
    "print(quotiont)\n",
    "print(remainder)"
   ]
  },
  {
   "cell_type": "code",
   "execution_count": 9,
   "id": "e056628d",
   "metadata": {},
   "outputs": [
    {
     "data": {
      "text/plain": [
       "1"
      ]
     },
     "execution_count": 9,
     "metadata": {},
     "output_type": "execute_result"
    }
   ],
   "source": [
    "9//8 #floored quotiont of x/y "
   ]
  },
  {
   "cell_type": "markdown",
   "id": "b35c4ba1",
   "metadata": {},
   "source": [
    "# math function"
   ]
  },
  {
   "cell_type": "code",
   "execution_count": 15,
   "id": "a8568a4a",
   "metadata": {},
   "outputs": [
    {
     "name": "stdout",
     "output_type": "stream",
     "text": [
      "3\n",
      "8\n",
      "2\n",
      "3\n",
      "3.3166247903554\n",
      "3.457\n",
      "4\n"
     ]
    }
   ],
   "source": [
    "import math\n",
    "print(abs(-3))\n",
    "print(pow(2,3)) # same as 2**3\n",
    "print(math.floor(2.3))\n",
    "print(math.ceil(2.3))\n",
    "print(math.sqrt(11))\n",
    "print(round(3.4567,3))\n",
    "print(round(3.5))\n",
    "\n"
   ]
  },
  {
   "cell_type": "markdown",
   "id": "acef4312",
   "metadata": {},
   "source": [
    "# Random"
   ]
  },
  {
   "cell_type": "code",
   "execution_count": 3,
   "id": "7c59e782",
   "metadata": {},
   "outputs": [
    {
     "name": "stdout",
     "output_type": "stream",
     "text": [
      "9\n",
      "0.9710355078636902\n"
     ]
    }
   ],
   "source": [
    "import random \n",
    "#randint() generates random integer in given range\n",
    "print(random.randint(1,10)) \n",
    " #random() generates random float number \n",
    "print(random.random())"
   ]
  },
  {
   "cell_type": "code",
   "execution_count": 25,
   "id": "2b8a62b2",
   "metadata": {},
   "outputs": [
    {
     "data": {
      "text/plain": [
       "3"
      ]
     },
     "execution_count": 25,
     "metadata": {},
     "output_type": "execute_result"
    }
   ],
   "source": [
    "arr = [1,2,3,4,5,6,7]\n",
    "# choosing a random element from the array \n",
    "random.choice(arr)"
   ]
  },
  {
   "cell_type": "code",
   "execution_count": 32,
   "id": "4421b67f",
   "metadata": {},
   "outputs": [
    {
     "data": {
      "text/plain": [
       "5"
      ]
     },
     "execution_count": 32,
     "metadata": {},
     "output_type": "execute_result"
    }
   ],
   "source": [
    "#return a random integer in range n \n",
    "random.randrange(10)"
   ]
  },
  {
   "cell_type": "code",
   "execution_count": 42,
   "id": "9204be0b",
   "metadata": {},
   "outputs": [
    {
     "data": {
      "text/plain": [
       "[63, 39, 2, 65, 13, 26]"
      ]
     },
     "execution_count": 42,
     "metadata": {},
     "output_type": "execute_result"
    }
   ],
   "source": [
    "#creating a random arrany of 6 elements where each element lies in range(100)\n",
    "arr = random.sample(range(100),6)\n",
    "arr"
   ]
  },
  {
   "cell_type": "code",
   "execution_count": 34,
   "id": "75a3da08",
   "metadata": {},
   "outputs": [
    {
     "data": {
      "text/plain": [
       "datetime.date(2022, 9, 2)"
      ]
     },
     "execution_count": 34,
     "metadata": {},
     "output_type": "execute_result"
    }
   ],
   "source": [
    "from  datetime import date\n",
    "date.today()"
   ]
  },
  {
   "cell_type": "code",
   "execution_count": 48,
   "id": "61d62a5c",
   "metadata": {},
   "outputs": [
    {
     "data": {
      "text/plain": [
       "datetime.timedelta(days=9257)"
      ]
     },
     "execution_count": 48,
     "metadata": {},
     "output_type": "execute_result"
    }
   ],
   "source": [
    "today = date.today()\n",
    "birthday = date(1997,4,29)\n",
    "age = today - birthday\n",
    "age\n",
    "\n",
    "\n"
   ]
  },
  {
   "cell_type": "code",
   "execution_count": 39,
   "id": "bdfb572c",
   "metadata": {},
   "outputs": [
    {
     "name": "stdout",
     "output_type": "stream",
     "text": [
      "2022-09-02 22:46:02\n"
     ]
    }
   ],
   "source": [
    "now = datetime.datetime.now()\n",
    "print(now.strftime(\"%Y-%m-%d %H:%M:%S\"))\n"
   ]
  },
  {
   "cell_type": "markdown",
   "id": "47797c68",
   "metadata": {},
   "source": [
    "# list"
   ]
  },
  {
   "cell_type": "code",
   "execution_count": 17,
   "id": "1f298cff",
   "metadata": {
    "scrolled": true
   },
   "outputs": [
    {
     "name": "stdout",
     "output_type": "stream",
     "text": [
      "[1, 2]\n",
      "[3, 4, 5, 6]\n",
      "[2, 3]\n",
      "6\n"
     ]
    }
   ],
   "source": [
    "x = [1,2,3,4,5,6]\n",
    "print(x[:2])\n",
    "print(x[2:])\n",
    "print(x[1:3])\n",
    "print(x[-1])"
   ]
  },
  {
   "cell_type": "code",
   "execution_count": 19,
   "id": "3d12e47c",
   "metadata": {},
   "outputs": [],
   "source": [
    "fruits = [\"apple\",\"banana\",\"pine-apple\",\"Grape\"]"
   ]
  },
  {
   "cell_type": "code",
   "execution_count": 24,
   "id": "04b351e7",
   "metadata": {
    "scrolled": true
   },
   "outputs": [
    {
     "name": "stdout",
     "output_type": "stream",
     "text": [
      "apple\n",
      "banana\n",
      "pine-apple\n",
      "Grape\n"
     ]
    }
   ],
   "source": [
    "for fruit in fruits:\n",
    "    print(fruit)"
   ]
  },
  {
   "cell_type": "code",
   "execution_count": 25,
   "id": "7c4b82dc",
   "metadata": {
    "scrolled": false
   },
   "outputs": [
    {
     "name": "stdout",
     "output_type": "stream",
     "text": [
      "0 apple\n",
      "1 banana\n",
      "2 pine-apple\n",
      "3 Grape\n"
     ]
    }
   ],
   "source": [
    "for i in range(len(fruits)):\n",
    "    print(i,fruits[i])"
   ]
  },
  {
   "cell_type": "markdown",
   "id": "06e7235e",
   "metadata": {},
   "source": [
    "# List function"
   ]
  },
  {
   "cell_type": "code",
   "execution_count": 54,
   "id": "6d75cd21",
   "metadata": {},
   "outputs": [
    {
     "name": "stdout",
     "output_type": "stream",
     "text": [
      "total apple in list: 3\n"
     ]
    }
   ],
   "source": [
    "fruits = ['apple','banana','orange','pineapple','grape','apple','apple']\n",
    "print('total apple in list:',fruits.count('apple'))"
   ]
  },
  {
   "cell_type": "code",
   "execution_count": 55,
   "id": "ec89f3c1",
   "metadata": {},
   "outputs": [
    {
     "name": "stdout",
     "output_type": "stream",
     "text": [
      "apple\n"
     ]
    },
    {
     "data": {
      "text/plain": [
       "['apple', 'banana', 'orange', 'pineapple', 'grape', 'apple']"
      ]
     },
     "execution_count": 55,
     "metadata": {},
     "output_type": "execute_result"
    }
   ],
   "source": [
    "print(fruits.pop())  #remove and return last element from list\n",
    "fruits"
   ]
  },
  {
   "cell_type": "code",
   "execution_count": 56,
   "id": "000912a3",
   "metadata": {},
   "outputs": [
    {
     "data": {
      "text/plain": [
       "['apple', 'banana', 'orange', 'pineapple', 'grape', 'apple', 'jackfruit']"
      ]
     },
     "execution_count": 56,
     "metadata": {},
     "output_type": "execute_result"
    }
   ],
   "source": [
    "fruits.append('jackfruit')\n",
    "fruits"
   ]
  },
  {
   "cell_type": "code",
   "execution_count": 57,
   "id": "bb36d890",
   "metadata": {},
   "outputs": [
    {
     "data": {
      "text/plain": [
       "['jackfruit', 'apple', 'grape', 'pineapple', 'orange', 'banana', 'apple']"
      ]
     },
     "execution_count": 57,
     "metadata": {},
     "output_type": "execute_result"
    }
   ],
   "source": [
    "fruits.reverse() #reverse the list elements\n",
    "fruits"
   ]
  },
  {
   "cell_type": "markdown",
   "id": "06a5a380",
   "metadata": {},
   "source": [
    "# List as queue"
   ]
  },
  {
   "cell_type": "code",
   "execution_count": 1,
   "id": "2cb45de3",
   "metadata": {},
   "outputs": [],
   "source": [
    "from collections import deque"
   ]
  },
  {
   "cell_type": "code",
   "execution_count": 5,
   "id": "b94f255d",
   "metadata": {},
   "outputs": [
    {
     "name": "stdout",
     "output_type": "stream",
     "text": [
      "1\n"
     ]
    }
   ],
   "source": [
    "num = [1,2,3,4,5,6]\n",
    "queue = deque(num)\n",
    "print(queue.popleft())\n"
   ]
  },
  {
   "cell_type": "markdown",
   "id": "fa2f62c4",
   "metadata": {},
   "source": [
    "# list comprehension"
   ]
  },
  {
   "cell_type": "code",
   "execution_count": 6,
   "id": "8efdc6a5",
   "metadata": {},
   "outputs": [
    {
     "name": "stdout",
     "output_type": "stream",
     "text": [
      "[0, 1, 4, 9, 16, 25, 36, 49, 64, 81]\n"
     ]
    }
   ],
   "source": [
    "arr = [ x**2 for x in range(10)]\n",
    "print(arr)"
   ]
  },
  {
   "cell_type": "code",
   "execution_count": 8,
   "id": "e939da04",
   "metadata": {},
   "outputs": [
    {
     "data": {
      "text/plain": [
       "[(1, 3), (1, 4), (1, 5), (2, 3), (2, 4), (2, 5), (3, 4), (3, 5)]"
      ]
     },
     "execution_count": 8,
     "metadata": {},
     "output_type": "execute_result"
    }
   ],
   "source": [
    "arr = [(x,y) for x in [1,2,3] for y in [3,4,5] if (x!=y)]\n",
    "arr"
   ]
  },
  {
   "cell_type": "markdown",
   "id": "3464bc09",
   "metadata": {},
   "source": [
    "# sorting in array "
   ]
  },
  {
   "cell_type": "code",
   "execution_count": 60,
   "id": "03c5f094",
   "metadata": {},
   "outputs": [
    {
     "data": {
      "text/plain": [
       "[3, 4, 6, 8, 10, 11]"
      ]
     },
     "execution_count": 60,
     "metadata": {},
     "output_type": "execute_result"
    }
   ],
   "source": [
    "num = [10, 11,8, 4,6,3]\n",
    "num.sort() #sorting in ascending order\n",
    "num\n"
   ]
  },
  {
   "cell_type": "code",
   "execution_count": 62,
   "id": "dbb16ed8",
   "metadata": {},
   "outputs": [
    {
     "data": {
      "text/plain": [
       "[11, 10, 8, 6, 4, 3]"
      ]
     },
     "execution_count": 62,
     "metadata": {},
     "output_type": "execute_result"
    }
   ],
   "source": [
    "num.sort(reverse = True) #sorting in descending order \n",
    "num"
   ]
  },
  {
   "cell_type": "code",
   "execution_count": 35,
   "id": "b6adba84",
   "metadata": {},
   "outputs": [
    {
     "name": "stdout",
     "output_type": "stream",
     "text": [
      "[0, 1, 1, 2, 3, 5, 8, 13, 21, 34, 55, 89]\n"
     ]
    }
   ],
   "source": [
    "def fib(n):\n",
    "    a = 0\n",
    "    b = 1\n",
    "    fibarr =[]\n",
    "    while(a<n):\n",
    "        fibarr.append(a)\n",
    "        a,b = b,a+b\n",
    "        \n",
    "    print(fibarr)\n",
    "fib(100)\n",
    "    "
   ]
  },
  {
   "cell_type": "code",
   "execution_count": 17,
   "id": "8d713540",
   "metadata": {},
   "outputs": [],
   "source": [
    "question = ['name','address','age','sex']\n",
    "answer = ['Abu Kowcher','Noakhali','25','Male'] "
   ]
  },
  {
   "cell_type": "code",
   "execution_count": 18,
   "id": "22149c0a",
   "metadata": {},
   "outputs": [
    {
     "name": "stdout",
     "output_type": "stream",
     "text": [
      "what is your name : Abu Kowcher\n",
      "what is your address : Noakhali\n",
      "what is your age : 25\n",
      "what is your sex : Male\n"
     ]
    }
   ],
   "source": [
    "for q,a in zip(question,answer) :\n",
    "    print('what is your {} : {}'.format(q,a))"
   ]
  },
  {
   "cell_type": "markdown",
   "id": "fbd36394",
   "metadata": {},
   "source": [
    "# Dictionary "
   ]
  },
  {
   "cell_type": "code",
   "execution_count": 12,
   "id": "06858c77",
   "metadata": {},
   "outputs": [
    {
     "data": {
      "text/plain": [
       "True"
      ]
     },
     "execution_count": 12,
     "metadata": {},
     "output_type": "execute_result"
    }
   ],
   "source": [
    "file_count = {'image':20, 'audio':200, 'video':140, 'text':23}\n",
    "\n",
    "'image' in file_count"
   ]
  },
  {
   "cell_type": "code",
   "execution_count": 13,
   "id": "d8b4f6d6",
   "metadata": {},
   "outputs": [
    {
     "data": {
      "text/plain": [
       "23"
      ]
     },
     "execution_count": 13,
     "metadata": {},
     "output_type": "execute_result"
    }
   ],
   "source": [
    "file_count['text']"
   ]
  },
  {
   "cell_type": "code",
   "execution_count": 14,
   "id": "1f4bfab9",
   "metadata": {},
   "outputs": [
    {
     "name": "stdout",
     "output_type": "stream",
     "text": [
      "number of image is 20 \n",
      "number of audio is 200 \n",
      "number of video is 140 \n",
      "number of text is 23 \n"
     ]
    }
   ],
   "source": [
    "for key,value in file_count.items():\n",
    "    print('number of {} is {} '.format(key,value))"
   ]
  },
  {
   "cell_type": "code",
   "execution_count": 22,
   "id": "a553a616",
   "metadata": {
    "scrolled": true
   },
   "outputs": [
    {
     "name": "stdout",
     "output_type": "stream",
     "text": [
      "dict_keys(['image', 'audio', 'video', 'text'])\n",
      "dict_values([20, 200, 140, 23])\n"
     ]
    }
   ],
   "source": [
    "print(file_count.keys())\n",
    "print(file_count.values())"
   ]
  },
  {
   "cell_type": "code",
   "execution_count": 24,
   "id": "4e486dac",
   "metadata": {
    "scrolled": true
   },
   "outputs": [
    {
     "name": "stdout",
     "output_type": "stream",
     "text": [
      "image\n",
      "audio\n",
      "video\n",
      "text\n"
     ]
    }
   ],
   "source": [
    "for key in file_count.keys():\n",
    "    print(key)"
   ]
  },
  {
   "cell_type": "code",
   "execution_count": 26,
   "id": "bdf19aa1",
   "metadata": {},
   "outputs": [
    {
     "name": "stdout",
     "output_type": "stream",
     "text": [
      "20\n",
      "200\n",
      "140\n",
      "23\n"
     ]
    }
   ],
   "source": [
    "for val in file_count.values():\n",
    "    print(val)"
   ]
  },
  {
   "cell_type": "code",
   "execution_count": 25,
   "id": "bca8f0e2",
   "metadata": {},
   "outputs": [
    {
     "name": "stdout",
     "output_type": "stream",
     "text": [
      "image\n",
      "audio\n",
      "video\n",
      "text\n"
     ]
    }
   ],
   "source": [
    "for extension in file_count: \n",
    "    print(extension)"
   ]
  }
 ],
 "metadata": {
  "kernelspec": {
   "display_name": "Python 3 (ipykernel)",
   "language": "python",
   "name": "python3"
  },
  "language_info": {
   "codemirror_mode": {
    "name": "ipython",
    "version": 3
   },
   "file_extension": ".py",
   "mimetype": "text/x-python",
   "name": "python",
   "nbconvert_exporter": "python",
   "pygments_lexer": "ipython3",
   "version": "3.9.12"
  }
 },
 "nbformat": 4,
 "nbformat_minor": 5
}
